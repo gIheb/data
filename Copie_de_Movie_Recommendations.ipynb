{
  "nbformat": 4,
  "nbformat_minor": 0,
  "metadata": {
    "accelerator": "GPU",
    "colab": {
      "name": "Copie de Movie Recommendations.ipynb",
      "provenance": [],
      "collapsed_sections": [],
      "include_colab_link": true
    },
    "kernelspec": {
      "display_name": "Python 3",
      "language": "python",
      "name": "python3"
    },
    "language_info": {
      "codemirror_mode": {
        "name": "ipython",
        "version": 3
      },
      "file_extension": ".py",
      "mimetype": "text/x-python",
      "name": "python",
      "nbconvert_exporter": "python",
      "pygments_lexer": "ipython3",
      "version": "3.6.8"
    }
  },
  "cells": [
    {
      "cell_type": "markdown",
      "metadata": {
        "id": "view-in-github",
        "colab_type": "text"
      },
      "source": [
        "<a href=\"https://colab.research.google.com/github/gIheb/data/blob/master/Copie_de_Movie_Recommendations.ipynb\" target=\"_parent\"><img src=\"https://colab.research.google.com/assets/colab-badge.svg\" alt=\"Open In Colab\"/></a>"
      ]
    },
    {
      "cell_type": "markdown",
      "metadata": {
        "colab_type": "text",
        "id": "NT4wCSFZmJnl"
      },
      "source": [
        "# Movie Recommendations\n",
        "\n",
        "Recommendations are a common machine learning task widely used by many leading companies, such as Netflix, Amazon, and YouTube. If you have used any of these online services, you are familiar with recommendations that are often prefixed with \"You might also like..\" or \"Recommended items other customers buy...\".\n",
        "\n",
        "There are many ways to generate recommendations. It could be done based on simple criteria, such as movie genre, e.g. comedies or action adventure. More sophisticated recommendations might consider many more factors, such as the director, when the movie was produced and so on.\n",
        "\n",
        "In this example, we will use a common, straightforward method known as [collaborative filtering](https://en.wikipedia.org/wiki/Collaborative_filtering). This method is based on idea that many customers have similar likes and dislikes. It also considers similarities between products. It's a simple, yet effective technique that depends only user preferences, such as product ratings. If you have a sufficiently large dataset of ratings from your customers, then this approach is a good place to start."
      ]
    },
    {
      "cell_type": "code",
      "metadata": {
        "colab_type": "code",
        "id": "WStenIzSmBFf",
        "colab": {}
      },
      "source": [
        "%tensorflow_version 2.x"
      ],
      "execution_count": 0,
      "outputs": []
    },
    {
      "cell_type": "code",
      "metadata": {
        "colab_type": "code",
        "id": "s_kskAKSmP_8",
        "colab": {}
      },
      "source": [
        "import pandas as pd\n",
        "import numpy as np\n",
        "import matplotlib.pyplot as plt\n",
        "from sklearn.model_selection import train_test_split\n",
        "from sklearn.preprocessing import StandardScaler\n",
        "from tensorflow.keras.layers import Input, Embedding, Flatten, Dot, Dense, Add, Dropout\n",
        "from tensorflow.keras.models import Model\n",
        "from tensorflow.keras.optimizers import Adam\n",
        "from sklearn.preprocessing import LabelEncoder"
      ],
      "execution_count": 0,
      "outputs": []
    },
    {
      "cell_type": "markdown",
      "metadata": {
        "colab_type": "text",
        "id": "shIqoQ8CmZbb"
      },
      "source": [
        "# Load data\n",
        "\n",
        "In this example, we will make movie recommendations given about 100,000 samples from roughly 10,000 customers or users.\n",
        "\n",
        "The data set is freely available on the [MovieLens website](https://grouplens.org/datasets/movielens/)."
      ]
    },
    {
      "cell_type": "code",
      "metadata": {
        "colab_type": "code",
        "id": "8iSN-FLpmfqc",
        "outputId": "b5252d31-02bf-4348-f445-35581fc44fc0",
        "colab": {
          "base_uri": "https://localhost:8080/",
          "height": 196
        }
      },
      "source": [
        "!wget http://files.grouplens.org/datasets/movielens/ml-latest-small.zip"
      ],
      "execution_count": 0,
      "outputs": [
        {
          "output_type": "stream",
          "text": [
            "--2020-05-10 13:38:36--  http://files.grouplens.org/datasets/movielens/ml-latest-small.zip\n",
            "Resolving files.grouplens.org (files.grouplens.org)... 128.101.65.152\n",
            "Connecting to files.grouplens.org (files.grouplens.org)|128.101.65.152|:80... connected.\n",
            "HTTP request sent, awaiting response... 200 OK\n",
            "Length: 978202 (955K) [application/zip]\n",
            "Saving to: ‘ml-latest-small.zip’\n",
            "\n",
            "ml-latest-small.zip 100%[===================>] 955.28K   817KB/s    in 1.2s    \n",
            "\n",
            "2020-05-10 13:38:37 (817 KB/s) - ‘ml-latest-small.zip’ saved [978202/978202]\n",
            "\n"
          ],
          "name": "stdout"
        }
      ]
    },
    {
      "cell_type": "code",
      "metadata": {
        "colab_type": "code",
        "id": "r9VHQzMBm7EN",
        "outputId": "cc72cdbb-11b4-4abc-f2d5-37cc47feaf8d",
        "colab": {
          "base_uri": "https://localhost:8080/",
          "height": 131
        }
      },
      "source": [
        "!unzip ml-latest-small.zip"
      ],
      "execution_count": 0,
      "outputs": [
        {
          "output_type": "stream",
          "text": [
            "Archive:  ml-latest-small.zip\n",
            "   creating: ml-latest-small/\n",
            "  inflating: ml-latest-small/links.csv  \n",
            "  inflating: ml-latest-small/tags.csv  \n",
            "  inflating: ml-latest-small/ratings.csv  \n",
            "  inflating: ml-latest-small/README.txt  \n",
            "  inflating: ml-latest-small/movies.csv  \n"
          ],
          "name": "stdout"
        }
      ]
    },
    {
      "cell_type": "code",
      "metadata": {
        "colab_type": "code",
        "id": "m8gfiZ0QnROz",
        "outputId": "2ec5673a-91e9-4510-f1b6-59c6837da059",
        "colab": {
          "base_uri": "https://localhost:8080/",
          "height": 191
        }
      },
      "source": [
        "movies = pd.read_csv('ml-latest-small/movies.csv')\n",
        "movies.head()"
      ],
      "execution_count": 0,
      "outputs": [
        {
          "output_type": "execute_result",
          "data": {
            "text/html": [
              "<div>\n",
              "<style scoped>\n",
              "    .dataframe tbody tr th:only-of-type {\n",
              "        vertical-align: middle;\n",
              "    }\n",
              "\n",
              "    .dataframe tbody tr th {\n",
              "        vertical-align: top;\n",
              "    }\n",
              "\n",
              "    .dataframe thead th {\n",
              "        text-align: right;\n",
              "    }\n",
              "</style>\n",
              "<table border=\"1\" class=\"dataframe\">\n",
              "  <thead>\n",
              "    <tr style=\"text-align: right;\">\n",
              "      <th></th>\n",
              "      <th>movieId</th>\n",
              "      <th>title</th>\n",
              "      <th>genres</th>\n",
              "    </tr>\n",
              "  </thead>\n",
              "  <tbody>\n",
              "    <tr>\n",
              "      <th>0</th>\n",
              "      <td>1</td>\n",
              "      <td>Toy Story (1995)</td>\n",
              "      <td>Adventure|Animation|Children|Comedy|Fantasy</td>\n",
              "    </tr>\n",
              "    <tr>\n",
              "      <th>1</th>\n",
              "      <td>2</td>\n",
              "      <td>Jumanji (1995)</td>\n",
              "      <td>Adventure|Children|Fantasy</td>\n",
              "    </tr>\n",
              "    <tr>\n",
              "      <th>2</th>\n",
              "      <td>3</td>\n",
              "      <td>Grumpier Old Men (1995)</td>\n",
              "      <td>Comedy|Romance</td>\n",
              "    </tr>\n",
              "    <tr>\n",
              "      <th>3</th>\n",
              "      <td>4</td>\n",
              "      <td>Waiting to Exhale (1995)</td>\n",
              "      <td>Comedy|Drama|Romance</td>\n",
              "    </tr>\n",
              "    <tr>\n",
              "      <th>4</th>\n",
              "      <td>5</td>\n",
              "      <td>Father of the Bride Part II (1995)</td>\n",
              "      <td>Comedy</td>\n",
              "    </tr>\n",
              "  </tbody>\n",
              "</table>\n",
              "</div>"
            ],
            "text/plain": [
              "   movieId  ...                                       genres\n",
              "0        1  ...  Adventure|Animation|Children|Comedy|Fantasy\n",
              "1        2  ...                   Adventure|Children|Fantasy\n",
              "2        3  ...                               Comedy|Romance\n",
              "3        4  ...                         Comedy|Drama|Romance\n",
              "4        5  ...                                       Comedy\n",
              "\n",
              "[5 rows x 3 columns]"
            ]
          },
          "metadata": {
            "tags": []
          },
          "execution_count": 5
        }
      ]
    },
    {
      "cell_type": "code",
      "metadata": {
        "colab_type": "code",
        "id": "LwtxE_wWAS_P",
        "outputId": "e486ac2e-4fa5-4607-e0ee-d56874834a81",
        "colab": {
          "base_uri": "https://localhost:8080/",
          "height": 191
        }
      },
      "source": [
        "ratings = pd.read_csv('ml-latest-small/ratings.csv')\n",
        "ratings.head()"
      ],
      "execution_count": 0,
      "outputs": [
        {
          "output_type": "execute_result",
          "data": {
            "text/html": [
              "<div>\n",
              "<style scoped>\n",
              "    .dataframe tbody tr th:only-of-type {\n",
              "        vertical-align: middle;\n",
              "    }\n",
              "\n",
              "    .dataframe tbody tr th {\n",
              "        vertical-align: top;\n",
              "    }\n",
              "\n",
              "    .dataframe thead th {\n",
              "        text-align: right;\n",
              "    }\n",
              "</style>\n",
              "<table border=\"1\" class=\"dataframe\">\n",
              "  <thead>\n",
              "    <tr style=\"text-align: right;\">\n",
              "      <th></th>\n",
              "      <th>userId</th>\n",
              "      <th>movieId</th>\n",
              "      <th>rating</th>\n",
              "      <th>timestamp</th>\n",
              "    </tr>\n",
              "  </thead>\n",
              "  <tbody>\n",
              "    <tr>\n",
              "      <th>0</th>\n",
              "      <td>1</td>\n",
              "      <td>1</td>\n",
              "      <td>4.0</td>\n",
              "      <td>964982703</td>\n",
              "    </tr>\n",
              "    <tr>\n",
              "      <th>1</th>\n",
              "      <td>1</td>\n",
              "      <td>3</td>\n",
              "      <td>4.0</td>\n",
              "      <td>964981247</td>\n",
              "    </tr>\n",
              "    <tr>\n",
              "      <th>2</th>\n",
              "      <td>1</td>\n",
              "      <td>6</td>\n",
              "      <td>4.0</td>\n",
              "      <td>964982224</td>\n",
              "    </tr>\n",
              "    <tr>\n",
              "      <th>3</th>\n",
              "      <td>1</td>\n",
              "      <td>47</td>\n",
              "      <td>5.0</td>\n",
              "      <td>964983815</td>\n",
              "    </tr>\n",
              "    <tr>\n",
              "      <th>4</th>\n",
              "      <td>1</td>\n",
              "      <td>50</td>\n",
              "      <td>5.0</td>\n",
              "      <td>964982931</td>\n",
              "    </tr>\n",
              "  </tbody>\n",
              "</table>\n",
              "</div>"
            ],
            "text/plain": [
              "   userId  movieId  rating  timestamp\n",
              "0       1        1     4.0  964982703\n",
              "1       1        3     4.0  964981247\n",
              "2       1        6     4.0  964982224\n",
              "3       1       47     5.0  964983815\n",
              "4       1       50     5.0  964982931"
            ]
          },
          "metadata": {
            "tags": []
          },
          "execution_count": 6
        }
      ]
    },
    {
      "cell_type": "markdown",
      "metadata": {
        "colab_type": "text",
        "id": "K7uejLK0AFi0"
      },
      "source": [
        "## Join Ratings with Movies\n",
        "\n",
        "The ratings don't contain movie titles, so let's join or merge these two sets for convenience."
      ]
    },
    {
      "cell_type": "code",
      "metadata": {
        "colab_type": "code",
        "id": "trWhyJF9neTr",
        "outputId": "2d71e0dc-206d-45b1-8bdd-6181a859b437",
        "colab": {
          "base_uri": "https://localhost:8080/",
          "height": 191
        }
      },
      "source": [
        "ratings = ratings.merge(movies, on='movieId').drop(['genres','timestamp'],axis=1)\n",
        "ratings.head()"
      ],
      "execution_count": 0,
      "outputs": [
        {
          "output_type": "execute_result",
          "data": {
            "text/html": [
              "<div>\n",
              "<style scoped>\n",
              "    .dataframe tbody tr th:only-of-type {\n",
              "        vertical-align: middle;\n",
              "    }\n",
              "\n",
              "    .dataframe tbody tr th {\n",
              "        vertical-align: top;\n",
              "    }\n",
              "\n",
              "    .dataframe thead th {\n",
              "        text-align: right;\n",
              "    }\n",
              "</style>\n",
              "<table border=\"1\" class=\"dataframe\">\n",
              "  <thead>\n",
              "    <tr style=\"text-align: right;\">\n",
              "      <th></th>\n",
              "      <th>userId</th>\n",
              "      <th>movieId</th>\n",
              "      <th>rating</th>\n",
              "      <th>title</th>\n",
              "    </tr>\n",
              "  </thead>\n",
              "  <tbody>\n",
              "    <tr>\n",
              "      <th>0</th>\n",
              "      <td>1</td>\n",
              "      <td>1</td>\n",
              "      <td>4.0</td>\n",
              "      <td>Toy Story (1995)</td>\n",
              "    </tr>\n",
              "    <tr>\n",
              "      <th>1</th>\n",
              "      <td>5</td>\n",
              "      <td>1</td>\n",
              "      <td>4.0</td>\n",
              "      <td>Toy Story (1995)</td>\n",
              "    </tr>\n",
              "    <tr>\n",
              "      <th>2</th>\n",
              "      <td>7</td>\n",
              "      <td>1</td>\n",
              "      <td>4.5</td>\n",
              "      <td>Toy Story (1995)</td>\n",
              "    </tr>\n",
              "    <tr>\n",
              "      <th>3</th>\n",
              "      <td>15</td>\n",
              "      <td>1</td>\n",
              "      <td>2.5</td>\n",
              "      <td>Toy Story (1995)</td>\n",
              "    </tr>\n",
              "    <tr>\n",
              "      <th>4</th>\n",
              "      <td>17</td>\n",
              "      <td>1</td>\n",
              "      <td>4.5</td>\n",
              "      <td>Toy Story (1995)</td>\n",
              "    </tr>\n",
              "  </tbody>\n",
              "</table>\n",
              "</div>"
            ],
            "text/plain": [
              "   userId  movieId  rating             title\n",
              "0       1        1     4.0  Toy Story (1995)\n",
              "1       5        1     4.0  Toy Story (1995)\n",
              "2       7        1     4.5  Toy Story (1995)\n",
              "3      15        1     2.5  Toy Story (1995)\n",
              "4      17        1     4.5  Toy Story (1995)"
            ]
          },
          "metadata": {
            "tags": []
          },
          "execution_count": 7
        }
      ]
    },
    {
      "cell_type": "markdown",
      "metadata": {
        "colab_type": "text",
        "id": "cnWx4rr2KEht"
      },
      "source": [
        "## Generate Sequential Identifiers\n",
        "\n",
        "`userId` and `movieId` are not sequential, which causes problems for our model. To compensate, we can use the [LabelEncoder](https://scikit-learn.org/stable/modules/generated/sklearn.preprocessing.LabelEncoder.html) class from [scikit-learn](https://scikit-learn.org/) to generate sequential identifiers for users and movies. The original identifiers are still available, so we can always join back to the original data set if needed."
      ]
    },
    {
      "cell_type": "code",
      "metadata": {
        "colab_type": "code",
        "id": "JUOvcGER93u4",
        "outputId": "1edc5e8a-8a29-4920-8ce7-85037f5e0369",
        "colab": {
          "base_uri": "https://localhost:8080/",
          "height": 191
        }
      },
      "source": [
        "user_enc = LabelEncoder()\n",
        "ratings['userSeq'] = user_enc.fit_transform(ratings['userId'].values)\n",
        "\n",
        "item_enc = LabelEncoder()\n",
        "ratings['movieSeq'] = item_enc.fit_transform(ratings['movieId'].values)\n",
        "\n",
        "ratings.head()"
      ],
      "execution_count": 0,
      "outputs": [
        {
          "output_type": "execute_result",
          "data": {
            "text/html": [
              "<div>\n",
              "<style scoped>\n",
              "    .dataframe tbody tr th:only-of-type {\n",
              "        vertical-align: middle;\n",
              "    }\n",
              "\n",
              "    .dataframe tbody tr th {\n",
              "        vertical-align: top;\n",
              "    }\n",
              "\n",
              "    .dataframe thead th {\n",
              "        text-align: right;\n",
              "    }\n",
              "</style>\n",
              "<table border=\"1\" class=\"dataframe\">\n",
              "  <thead>\n",
              "    <tr style=\"text-align: right;\">\n",
              "      <th></th>\n",
              "      <th>userId</th>\n",
              "      <th>movieId</th>\n",
              "      <th>rating</th>\n",
              "      <th>title</th>\n",
              "      <th>userSeq</th>\n",
              "      <th>movieSeq</th>\n",
              "    </tr>\n",
              "  </thead>\n",
              "  <tbody>\n",
              "    <tr>\n",
              "      <th>0</th>\n",
              "      <td>1</td>\n",
              "      <td>1</td>\n",
              "      <td>4.0</td>\n",
              "      <td>Toy Story (1995)</td>\n",
              "      <td>0</td>\n",
              "      <td>0</td>\n",
              "    </tr>\n",
              "    <tr>\n",
              "      <th>1</th>\n",
              "      <td>5</td>\n",
              "      <td>1</td>\n",
              "      <td>4.0</td>\n",
              "      <td>Toy Story (1995)</td>\n",
              "      <td>4</td>\n",
              "      <td>0</td>\n",
              "    </tr>\n",
              "    <tr>\n",
              "      <th>2</th>\n",
              "      <td>7</td>\n",
              "      <td>1</td>\n",
              "      <td>4.5</td>\n",
              "      <td>Toy Story (1995)</td>\n",
              "      <td>6</td>\n",
              "      <td>0</td>\n",
              "    </tr>\n",
              "    <tr>\n",
              "      <th>3</th>\n",
              "      <td>15</td>\n",
              "      <td>1</td>\n",
              "      <td>2.5</td>\n",
              "      <td>Toy Story (1995)</td>\n",
              "      <td>14</td>\n",
              "      <td>0</td>\n",
              "    </tr>\n",
              "    <tr>\n",
              "      <th>4</th>\n",
              "      <td>17</td>\n",
              "      <td>1</td>\n",
              "      <td>4.5</td>\n",
              "      <td>Toy Story (1995)</td>\n",
              "      <td>16</td>\n",
              "      <td>0</td>\n",
              "    </tr>\n",
              "  </tbody>\n",
              "</table>\n",
              "</div>"
            ],
            "text/plain": [
              "   userId  movieId  rating             title  userSeq  movieSeq\n",
              "0       1        1     4.0  Toy Story (1995)        0         0\n",
              "1       5        1     4.0  Toy Story (1995)        4         0\n",
              "2       7        1     4.5  Toy Story (1995)        6         0\n",
              "3      15        1     2.5  Toy Story (1995)       14         0\n",
              "4      17        1     4.5  Toy Story (1995)       16         0"
            ]
          },
          "metadata": {
            "tags": []
          },
          "execution_count": 8
        }
      ]
    },
    {
      "cell_type": "markdown",
      "metadata": {
        "colab_type": "text",
        "id": "QKug9IoGBlvo"
      },
      "source": [
        "## Train/Test Split\n",
        "\n",
        "This case is a bit unusual because we need ratings for every movie from every user to train an accurate model. If we used a traditional split, some movies might be left out, which will cause problems during prediction.\n",
        "\n",
        "For this reason, we will use all of the data for training and a subset for model validation only."
      ]
    },
    {
      "cell_type": "code",
      "metadata": {
        "colab_type": "code",
        "id": "cWzCvTtHno9b",
        "outputId": "61864299-ae41-4db8-e0ff-a7a2a84c1145",
        "colab": {
          "base_uri": "https://localhost:8080/",
          "height": 50
        }
      },
      "source": [
        "train_unused, test = train_test_split(ratings, test_size=0.20, random_state=0)\n",
        "\n",
        "# All data is used for training\n",
        "train = ratings\n",
        "\n",
        "numUsers = len(train.userSeq.unique())\n",
        "numMovies = len(train.movieSeq.unique())\n",
        "print((numUsers, numMovies))\n",
        "print((len(train), len(test)))"
      ],
      "execution_count": 0,
      "outputs": [
        {
          "output_type": "stream",
          "text": [
            "(610, 9724)\n",
            "(100836, 20168)\n"
          ],
          "name": "stdout"
        }
      ]
    },
    {
      "cell_type": "markdown",
      "metadata": {
        "colab_type": "text",
        "id": "wEOJRfE2tBmO"
      },
      "source": [
        "## Recommendation Model\n",
        "\n",
        "Collaborative filtering tries to minimize the error between a predicted value and ground truth. This is similar to many supervised machine learning problems. The model learns a set of features that similar movies share. The number of features could be as simple as the genre or more complex. The `numFeatures` variable below is a hyperparameter that can be tuned to optimize performance.\n",
        "\n",
        "This model uses the [Keras functional API](https://keras.io/getting-started/functional-api-guide/) rather than adding layers to a Sequential model. This is necessary because we have two sets of inputs, userSeq and movieSeq."
      ]
    },
    {
      "cell_type": "code",
      "metadata": {
        "colab_type": "code",
        "id": "s6WzjAvComok",
        "outputId": "6ea3b891-c3c3-4b4f-cce8-9b28c77d3a40",
        "colab": {
          "base_uri": "https://localhost:8080/",
          "height": 651
        }
      },
      "source": [
        "numFeatures = 50\n",
        "dropout = 0\n",
        "\n",
        "user_input = Input(shape=(1,))\n",
        "user_emb = Embedding(numUsers, numFeatures)(user_input)\n",
        "flat_user = Flatten()(user_emb)\n",
        "user_dropout = Dropout(dropout)(flat_user)\n",
        "\n",
        "movie_input = Input(shape=(1,))\n",
        "movie_emb = Embedding(numMovies, numFeatures)(movie_input)\n",
        "flat_movie = Flatten()(movie_emb)\n",
        "movie_dropout = Dropout(dropout)(flat_movie)\n",
        "\n",
        "dotProduct = Dot(axes=1)([user_dropout, movie_dropout])\n",
        "\n",
        "user_bias = Embedding(numUsers, 1)(user_input)\n",
        "movie_bias = Embedding(numMovies, 1)(movie_input)\n",
        "sum = Add()([dotProduct, user_bias, movie_bias])\n",
        "flat_sum = Flatten()(sum)\n",
        "output = Dropout(dropout)(flat_sum)\n",
        "\n",
        "model = Model([user_input, movie_input], output)\n",
        "\n",
        "model.summary()"
      ],
      "execution_count": 0,
      "outputs": [
        {
          "output_type": "stream",
          "text": [
            "Model: \"model_10\"\n",
            "__________________________________________________________________________________________________\n",
            "Layer (type)                    Output Shape         Param #     Connected to                     \n",
            "==================================================================================================\n",
            "input_21 (InputLayer)           [(None, 1)]          0                                            \n",
            "__________________________________________________________________________________________________\n",
            "input_22 (InputLayer)           [(None, 1)]          0                                            \n",
            "__________________________________________________________________________________________________\n",
            "embedding_40 (Embedding)        (None, 1, 50)        30500       input_21[0][0]                   \n",
            "__________________________________________________________________________________________________\n",
            "embedding_41 (Embedding)        (None, 1, 50)        486200      input_22[0][0]                   \n",
            "__________________________________________________________________________________________________\n",
            "flatten_30 (Flatten)            (None, 50)           0           embedding_40[0][0]               \n",
            "__________________________________________________________________________________________________\n",
            "flatten_31 (Flatten)            (None, 50)           0           embedding_41[0][0]               \n",
            "__________________________________________________________________________________________________\n",
            "dropout_30 (Dropout)            (None, 50)           0           flatten_30[0][0]                 \n",
            "__________________________________________________________________________________________________\n",
            "dropout_31 (Dropout)            (None, 50)           0           flatten_31[0][0]                 \n",
            "__________________________________________________________________________________________________\n",
            "dot_10 (Dot)                    (None, 1)            0           dropout_30[0][0]                 \n",
            "                                                                 dropout_31[0][0]                 \n",
            "__________________________________________________________________________________________________\n",
            "embedding_42 (Embedding)        (None, 1, 1)         610         input_21[0][0]                   \n",
            "__________________________________________________________________________________________________\n",
            "embedding_43 (Embedding)        (None, 1, 1)         9724        input_22[0][0]                   \n",
            "__________________________________________________________________________________________________\n",
            "add_10 (Add)                    (None, 1, 1)         0           dot_10[0][0]                     \n",
            "                                                                 embedding_42[0][0]               \n",
            "                                                                 embedding_43[0][0]               \n",
            "__________________________________________________________________________________________________\n",
            "flatten_32 (Flatten)            (None, 1)            0           add_10[0][0]                     \n",
            "__________________________________________________________________________________________________\n",
            "dropout_32 (Dropout)            (None, 1)            0           flatten_32[0][0]                 \n",
            "==================================================================================================\n",
            "Total params: 527,034\n",
            "Trainable params: 527,034\n",
            "Non-trainable params: 0\n",
            "__________________________________________________________________________________________________\n"
          ],
          "name": "stdout"
        }
      ]
    },
    {
      "cell_type": "code",
      "metadata": {
        "id": "GrludlpCXNXA",
        "colab_type": "code",
        "colab": {}
      },
      "source": [
        ""
      ],
      "execution_count": 0,
      "outputs": []
    },
    {
      "cell_type": "markdown",
      "metadata": {
        "colab_type": "text",
        "id": "rwBRWEY8uOOv"
      },
      "source": [
        "## Model Training"
      ]
    },
    {
      "cell_type": "code",
      "metadata": {
        "colab_type": "code",
        "id": "5ZXh0fuiuNfx",
        "outputId": "56f3a70c-4224-4275-8372-66820e1c7889",
        "colab": {
          "base_uri": "https://localhost:8080/",
          "height": 457
        }
      },
      "source": [
        "model.compile(loss='mean_squared_error', optimizer=Adam())\n",
        "history = model.fit([train.userSeq, train.movieSeq], train.rating,\n",
        "                    batch_size=32, epochs=5, verbose=1,\n",
        "                    validation_data=([test.userSeq, test.movieSeq], test.rating))\n",
        "\n",
        "plt.plot(history.history['loss'])\n",
        "plt.plot(history.history['val_loss'])\n",
        "plt.title('Model accuracy')\n",
        "plt.ylabel('Accuracy')\n",
        "plt.xlabel('Epoch')\n",
        "plt.legend(['Train', 'Test'], loc='upper left')\n",
        "plt.show()"
      ],
      "execution_count": 0,
      "outputs": [
        {
          "output_type": "stream",
          "text": [
            "Epoch 1/5\n",
            "3152/3152 [==============================] - 12s 4ms/step - loss: 8.5732 - val_loss: 3.4026\n",
            "Epoch 2/5\n",
            "3152/3152 [==============================] - 12s 4ms/step - loss: 3.1030 - val_loss: 1.4992\n",
            "Epoch 3/5\n",
            "3152/3152 [==============================] - 12s 4ms/step - loss: 2.3708 - val_loss: 1.0888\n",
            "Epoch 4/5\n",
            "3152/3152 [==============================] - 12s 4ms/step - loss: 2.1748 - val_loss: 0.9510\n",
            "Epoch 5/5\n",
            "3152/3152 [==============================] - 12s 4ms/step - loss: 2.0914 - val_loss: 0.8834\n"
          ],
          "name": "stdout"
        },
        {
          "output_type": "display_data",
          "data": {
            "image/png": "[encoded data removed]",
            "text/plain": [
              "<Figure size 432x288 with 1 Axes>"
            ]
          },
          "metadata": {
            "tags": [],
            "needs_background": "light"
          }
        }
      ]
    },
    {
      "cell_type": "markdown",
      "metadata": {
        "colab_type": "text",
        "id": "TQGSmqmeN6Et"
      },
      "source": [
        "Notice the validation loss is slightly lower than the training loss. If the model was overfitting, then the opposite would be true, so this is a peculiar case.\n",
        "\n",
        "There are a few reasons this can happen:\n",
        "\n",
        "\n",
        "1.   Keras artifact explained the [Keras FAQ](https://keras.io/getting-started/faq/#why-is-the-training-loss-much-higher-than-the-testing-loss). Keras computes training loss as the average during training time, which can change quite a bit during one epoch. Validation is computed at the end of an epoch when the model loss is probably lower.\n",
        "2.   The test set is not not representative of the training set. In some cases, the test set might be easier to predict than the training set. This could happen if a very small test set is used.\n",
        "\n",
        "\n",
        "\n",
        "\n"
      ]
    },
    {
      "cell_type": "markdown",
      "metadata": {
        "colab_type": "text",
        "id": "EjmI0CuZFLIU"
      },
      "source": [
        "## Make Predictions\n",
        "\n",
        "We can make predictions for a given user by creating a numpy array of all movies and a numpy array of the same dimension filled with just the one user we are interested in. The model will predict ratings for the specified user given all movies in the full data set.\n",
        "\n",
        "We can then sort the data set by predicted rating descending to get the best recommendations first."
      ]
    },
    {
      "cell_type": "code",
      "metadata": {
        "colab_type": "code",
        "id": "WwzJSCvhj8U8",
        "outputId": "c978096e-83e3-4ca1-ba7b-88ca343b0bfe",
        "colab": {
          "base_uri": "https://localhost:8080/",
          "height": 335
        }
      },
      "source": [
        "# The user for whom we want to make recommendations\n",
        "userNumber = 0\n",
        "\n",
        "uniqueMovies = ratings.drop_duplicates(subset=['movieSeq'])\n",
        "\n",
        "movie_vector = uniqueMovies.movieSeq.values\n",
        "user_vector = np.ones((len(uniqueMovies),)) * userNumber\n",
        "predictions = model.predict([user_vector, movie_vector])\n",
        "pSeries = pd.Series([a[0] for a in predictions])\n",
        "predictedDF = uniqueMovies.copy()\n",
        "predictedDF['Predictions'] = pSeries\n",
        "\n",
        "predictedDF.sort_values(by='Predictions', ascending=False).head(10)"
      ],
      "execution_count": 0,
      "outputs": [
        {
          "output_type": "execute_result",
          "data": {
            "text/html": [
              "<div>\n",
              "<style scoped>\n",
              "    .dataframe tbody tr th:only-of-type {\n",
              "        vertical-align: middle;\n",
              "    }\n",
              "\n",
              "    .dataframe tbody tr th {\n",
              "        vertical-align: top;\n",
              "    }\n",
              "\n",
              "    .dataframe thead th {\n",
              "        text-align: right;\n",
              "    }\n",
              "</style>\n",
              "<table border=\"1\" class=\"dataframe\">\n",
              "  <thead>\n",
              "    <tr style=\"text-align: right;\">\n",
              "      <th></th>\n",
              "      <th>userId</th>\n",
              "      <th>movieId</th>\n",
              "      <th>rating</th>\n",
              "      <th>title</th>\n",
              "      <th>userSeq</th>\n",
              "      <th>movieSeq</th>\n",
              "      <th>Predictions</th>\n",
              "    </tr>\n",
              "  </thead>\n",
              "  <tbody>\n",
              "    <tr>\n",
              "      <th>1135</th>\n",
              "      <td>1</td>\n",
              "      <td>157</td>\n",
              "      <td>5.0</td>\n",
              "      <td>Canadian Bacon (1995)</td>\n",
              "      <td>0</td>\n",
              "      <td>130</td>\n",
              "      <td>5.272145</td>\n",
              "    </tr>\n",
              "    <tr>\n",
              "      <th>2755</th>\n",
              "      <td>1</td>\n",
              "      <td>362</td>\n",
              "      <td>5.0</td>\n",
              "      <td>Jungle Book, The (1994)</td>\n",
              "      <td>0</td>\n",
              "      <td>320</td>\n",
              "      <td>5.105328</td>\n",
              "    </tr>\n",
              "    <tr>\n",
              "      <th>5770</th>\n",
              "      <td>1</td>\n",
              "      <td>1025</td>\n",
              "      <td>5.0</td>\n",
              "      <td>Sword in the Stone, The (1963)</td>\n",
              "      <td>0</td>\n",
              "      <td>783</td>\n",
              "      <td>4.985131</td>\n",
              "    </tr>\n",
              "    <tr>\n",
              "      <th>1146</th>\n",
              "      <td>1</td>\n",
              "      <td>163</td>\n",
              "      <td>5.0</td>\n",
              "      <td>Desperado (1995)</td>\n",
              "      <td>0</td>\n",
              "      <td>136</td>\n",
              "      <td>4.952960</td>\n",
              "    </tr>\n",
              "    <tr>\n",
              "      <th>2316</th>\n",
              "      <td>1</td>\n",
              "      <td>349</td>\n",
              "      <td>4.0</td>\n",
              "      <td>Clear and Present Danger (1994)</td>\n",
              "      <td>0</td>\n",
              "      <td>307</td>\n",
              "      <td>4.918694</td>\n",
              "    </tr>\n",
              "    <tr>\n",
              "      <th>4830</th>\n",
              "      <td>1</td>\n",
              "      <td>648</td>\n",
              "      <td>3.0</td>\n",
              "      <td>Mission: Impossible (1996)</td>\n",
              "      <td>0</td>\n",
              "      <td>546</td>\n",
              "      <td>4.829695</td>\n",
              "    </tr>\n",
              "    <tr>\n",
              "      <th>1091</th>\n",
              "      <td>1</td>\n",
              "      <td>151</td>\n",
              "      <td>5.0</td>\n",
              "      <td>Rob Roy (1995)</td>\n",
              "      <td>0</td>\n",
              "      <td>124</td>\n",
              "      <td>4.798674</td>\n",
              "    </tr>\n",
              "    <tr>\n",
              "      <th>369</th>\n",
              "      <td>1</td>\n",
              "      <td>47</td>\n",
              "      <td>5.0</td>\n",
              "      <td>Seven (a.k.a. Se7en) (1995)</td>\n",
              "      <td>0</td>\n",
              "      <td>43</td>\n",
              "      <td>4.781574</td>\n",
              "    </tr>\n",
              "    <tr>\n",
              "      <th>2998</th>\n",
              "      <td>1</td>\n",
              "      <td>457</td>\n",
              "      <td>5.0</td>\n",
              "      <td>Fugitive, The (1993)</td>\n",
              "      <td>0</td>\n",
              "      <td>398</td>\n",
              "      <td>4.768432</td>\n",
              "    </tr>\n",
              "    <tr>\n",
              "      <th>4121</th>\n",
              "      <td>1</td>\n",
              "      <td>592</td>\n",
              "      <td>4.0</td>\n",
              "      <td>Batman (1989)</td>\n",
              "      <td>0</td>\n",
              "      <td>509</td>\n",
              "      <td>4.668059</td>\n",
              "    </tr>\n",
              "  </tbody>\n",
              "</table>\n",
              "</div>"
            ],
            "text/plain": [
              "      userId  movieId  rating  ... userSeq  movieSeq  Predictions\n",
              "1135       1      157     5.0  ...       0       130     5.272145\n",
              "2755       1      362     5.0  ...       0       320     5.105328\n",
              "5770       1     1025     5.0  ...       0       783     4.985131\n",
              "1146       1      163     5.0  ...       0       136     4.952960\n",
              "2316       1      349     4.0  ...       0       307     4.918694\n",
              "4830       1      648     3.0  ...       0       546     4.829695\n",
              "1091       1      151     5.0  ...       0       124     4.798674\n",
              "369        1       47     5.0  ...       0        43     4.781574\n",
              "2998       1      457     5.0  ...       0       398     4.768432\n",
              "4121       1      592     4.0  ...       0       509     4.668059\n",
              "\n",
              "[10 rows x 7 columns]"
            ]
          },
          "metadata": {
            "tags": []
          },
          "execution_count": 30
        }
      ]
    },
    {
      "cell_type": "markdown",
      "metadata": {
        "colab_type": "text",
        "id": "Ga2dHwYa7pP2"
      },
      "source": [
        "## Error Analysis\n",
        "\n",
        "Let's look at some movies where the ground truth did not compare well with predictions."
      ]
    },
    {
      "cell_type": "code",
      "metadata": {
        "colab_type": "code",
        "id": "xC6srYBe6CU3",
        "outputId": "c5a0ab54-abf3-4a10-c571-1dc15971d353",
        "colab": {
          "base_uri": "https://localhost:8080/",
          "height": 191
        }
      },
      "source": [
        "oneUser = predictedDF[predictedDF.userSeq == userNumber].copy()\n",
        "oneUser['Error'] = (oneUser.rating - oneUser.Predictions)**2\n",
        "oneUser.sort_values(by='Error', ascending=False).head(5)"
      ],
      "execution_count": 0,
      "outputs": [
        {
          "output_type": "execute_result",
          "data": {
            "text/html": [
              "<div>\n",
              "<style scoped>\n",
              "    .dataframe tbody tr th:only-of-type {\n",
              "        vertical-align: middle;\n",
              "    }\n",
              "\n",
              "    .dataframe tbody tr th {\n",
              "        vertical-align: top;\n",
              "    }\n",
              "\n",
              "    .dataframe thead th {\n",
              "        text-align: right;\n",
              "    }\n",
              "</style>\n",
              "<table border=\"1\" class=\"dataframe\">\n",
              "  <thead>\n",
              "    <tr style=\"text-align: right;\">\n",
              "      <th></th>\n",
              "      <th>userId</th>\n",
              "      <th>movieId</th>\n",
              "      <th>rating</th>\n",
              "      <th>title</th>\n",
              "      <th>userSeq</th>\n",
              "      <th>movieSeq</th>\n",
              "      <th>Predictions</th>\n",
              "      <th>Error</th>\n",
              "    </tr>\n",
              "  </thead>\n",
              "  <tbody>\n",
              "    <tr>\n",
              "      <th>4649</th>\n",
              "      <td>1</td>\n",
              "      <td>608</td>\n",
              "      <td>5.0</td>\n",
              "      <td>Fargo (1996)</td>\n",
              "      <td>0</td>\n",
              "      <td>520</td>\n",
              "      <td>0.651915</td>\n",
              "      <td>18.905844</td>\n",
              "    </tr>\n",
              "    <tr>\n",
              "      <th>6216</th>\n",
              "      <td>1</td>\n",
              "      <td>1089</td>\n",
              "      <td>5.0</td>\n",
              "      <td>Reservoir Dogs (1992)</td>\n",
              "      <td>0</td>\n",
              "      <td>827</td>\n",
              "      <td>1.144853</td>\n",
              "      <td>14.862161</td>\n",
              "    </tr>\n",
              "    <tr>\n",
              "      <th>6641</th>\n",
              "      <td>1</td>\n",
              "      <td>1136</td>\n",
              "      <td>5.0</td>\n",
              "      <td>Monty Python and the Holy Grail (1975)</td>\n",
              "      <td>0</td>\n",
              "      <td>862</td>\n",
              "      <td>1.292186</td>\n",
              "      <td>13.747884</td>\n",
              "    </tr>\n",
              "    <tr>\n",
              "      <th>8450</th>\n",
              "      <td>1</td>\n",
              "      <td>1256</td>\n",
              "      <td>5.0</td>\n",
              "      <td>Duck Soup (1933)</td>\n",
              "      <td>0</td>\n",
              "      <td>954</td>\n",
              "      <td>1.366663</td>\n",
              "      <td>13.201140</td>\n",
              "    </tr>\n",
              "    <tr>\n",
              "      <th>7130</th>\n",
              "      <td>1</td>\n",
              "      <td>1198</td>\n",
              "      <td>5.0</td>\n",
              "      <td>Raiders of the Lost Ark (Indiana Jones and the...</td>\n",
              "      <td>0</td>\n",
              "      <td>899</td>\n",
              "      <td>1.543250</td>\n",
              "      <td>11.949118</td>\n",
              "    </tr>\n",
              "  </tbody>\n",
              "</table>\n",
              "</div>"
            ],
            "text/plain": [
              "      userId  movieId  rating  ... movieSeq  Predictions      Error\n",
              "4649       1      608     5.0  ...      520     0.651915  18.905844\n",
              "6216       1     1089     5.0  ...      827     1.144853  14.862161\n",
              "6641       1     1136     5.0  ...      862     1.292186  13.747884\n",
              "8450       1     1256     5.0  ...      954     1.366663  13.201140\n",
              "7130       1     1198     5.0  ...      899     1.543250  11.949118\n",
              "\n",
              "[5 rows x 8 columns]"
            ]
          },
          "metadata": {
            "tags": []
          },
          "execution_count": 35
        }
      ]
    },
    {
      "cell_type": "code",
      "metadata": {
        "colab_type": "code",
        "id": "EaaOoNBLKyPt",
        "outputId": "9bbef82c-2352-47e2-d7c0-f69c3f1795a6",
        "colab": {
          "base_uri": "https://localhost:8080/",
          "height": 391
        }
      },
      "source": [
        "ratings[ratings.movieSeq == 520].sort_values(by='rating', ascending=True)"
      ],
      "execution_count": 0,
      "outputs": [
        {
          "output_type": "execute_result",
          "data": {
            "text/html": [
              "<div>\n",
              "<style scoped>\n",
              "    .dataframe tbody tr th:only-of-type {\n",
              "        vertical-align: middle;\n",
              "    }\n",
              "\n",
              "    .dataframe tbody tr th {\n",
              "        vertical-align: top;\n",
              "    }\n",
              "\n",
              "    .dataframe thead th {\n",
              "        text-align: right;\n",
              "    }\n",
              "</style>\n",
              "<table border=\"1\" class=\"dataframe\">\n",
              "  <thead>\n",
              "    <tr style=\"text-align: right;\">\n",
              "      <th></th>\n",
              "      <th>userId</th>\n",
              "      <th>movieId</th>\n",
              "      <th>rating</th>\n",
              "      <th>title</th>\n",
              "      <th>userSeq</th>\n",
              "      <th>movieSeq</th>\n",
              "    </tr>\n",
              "  </thead>\n",
              "  <tbody>\n",
              "    <tr>\n",
              "      <th>4827</th>\n",
              "      <td>607</td>\n",
              "      <td>608</td>\n",
              "      <td>2.0</td>\n",
              "      <td>Fargo (1996)</td>\n",
              "      <td>606</td>\n",
              "      <td>520</td>\n",
              "    </tr>\n",
              "    <tr>\n",
              "      <th>4672</th>\n",
              "      <td>78</td>\n",
              "      <td>608</td>\n",
              "      <td>2.0</td>\n",
              "      <td>Fargo (1996)</td>\n",
              "      <td>77</td>\n",
              "      <td>520</td>\n",
              "    </tr>\n",
              "    <tr>\n",
              "      <th>4810</th>\n",
              "      <td>546</td>\n",
              "      <td>608</td>\n",
              "      <td>2.0</td>\n",
              "      <td>Fargo (1996)</td>\n",
              "      <td>545</td>\n",
              "      <td>520</td>\n",
              "    </tr>\n",
              "    <tr>\n",
              "      <th>4669</th>\n",
              "      <td>71</td>\n",
              "      <td>608</td>\n",
              "      <td>2.0</td>\n",
              "      <td>Fargo (1996)</td>\n",
              "      <td>70</td>\n",
              "      <td>520</td>\n",
              "    </tr>\n",
              "    <tr>\n",
              "      <th>4812</th>\n",
              "      <td>554</td>\n",
              "      <td>608</td>\n",
              "      <td>2.0</td>\n",
              "      <td>Fargo (1996)</td>\n",
              "      <td>553</td>\n",
              "      <td>520</td>\n",
              "    </tr>\n",
              "    <tr>\n",
              "      <th>...</th>\n",
              "      <td>...</td>\n",
              "      <td>...</td>\n",
              "      <td>...</td>\n",
              "      <td>...</td>\n",
              "      <td>...</td>\n",
              "      <td>...</td>\n",
              "    </tr>\n",
              "    <tr>\n",
              "      <th>4725</th>\n",
              "      <td>251</td>\n",
              "      <td>608</td>\n",
              "      <td>5.0</td>\n",
              "      <td>Fargo (1996)</td>\n",
              "      <td>250</td>\n",
              "      <td>520</td>\n",
              "    </tr>\n",
              "    <tr>\n",
              "      <th>4718</th>\n",
              "      <td>221</td>\n",
              "      <td>608</td>\n",
              "      <td>5.0</td>\n",
              "      <td>Fargo (1996)</td>\n",
              "      <td>220</td>\n",
              "      <td>520</td>\n",
              "    </tr>\n",
              "    <tr>\n",
              "      <th>4717</th>\n",
              "      <td>220</td>\n",
              "      <td>608</td>\n",
              "      <td>5.0</td>\n",
              "      <td>Fargo (1996)</td>\n",
              "      <td>219</td>\n",
              "      <td>520</td>\n",
              "    </tr>\n",
              "    <tr>\n",
              "      <th>4754</th>\n",
              "      <td>324</td>\n",
              "      <td>608</td>\n",
              "      <td>5.0</td>\n",
              "      <td>Fargo (1996)</td>\n",
              "      <td>323</td>\n",
              "      <td>520</td>\n",
              "    </tr>\n",
              "    <tr>\n",
              "      <th>4739</th>\n",
              "      <td>290</td>\n",
              "      <td>608</td>\n",
              "      <td>5.0</td>\n",
              "      <td>Fargo (1996)</td>\n",
              "      <td>289</td>\n",
              "      <td>520</td>\n",
              "    </tr>\n",
              "  </tbody>\n",
              "</table>\n",
              "<p>181 rows × 6 columns</p>\n",
              "</div>"
            ],
            "text/plain": [
              "      userId  movieId  rating         title  userSeq  movieSeq\n",
              "4827     607      608     2.0  Fargo (1996)      606       520\n",
              "4672      78      608     2.0  Fargo (1996)       77       520\n",
              "4810     546      608     2.0  Fargo (1996)      545       520\n",
              "4669      71      608     2.0  Fargo (1996)       70       520\n",
              "4812     554      608     2.0  Fargo (1996)      553       520\n",
              "...      ...      ...     ...           ...      ...       ...\n",
              "4725     251      608     5.0  Fargo (1996)      250       520\n",
              "4718     221      608     5.0  Fargo (1996)      220       520\n",
              "4717     220      608     5.0  Fargo (1996)      219       520\n",
              "4754     324      608     5.0  Fargo (1996)      323       520\n",
              "4739     290      608     5.0  Fargo (1996)      289       520\n",
              "\n",
              "[181 rows x 6 columns]"
            ]
          },
          "metadata": {
            "tags": []
          },
          "execution_count": 36
        }
      ]
    }
  ]
}