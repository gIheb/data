{
  "nbformat": 4,
  "nbformat_minor": 0,
  "metadata": {
    "colab": {
      "name": "LinearRegression.ipynb",
      "provenance": [],
      "collapsed_sections": [],
      "include_colab_link": true
    },
    "kernelspec": {
      "display_name": "Python 3",
      "language": "python",
      "name": "python3"
    },
    "language_info": {
      "codemirror_mode": {
        "name": "ipython",
        "version": 3
      },
      "file_extension": ".py",
      "mimetype": "text/x-python",
      "name": "python",
      "nbconvert_exporter": "python",
      "pygments_lexer": "ipython3",
      "version": "3.6.8"
    }
  },
  "cells": [
    {
      "cell_type": "markdown",
      "metadata": {
        "id": "view-in-github",
        "colab_type": "text"
      },
      "source": [
        "<a href=\"https://colab.research.google.com/github/gIheb/data/blob/master/LinearRegression.ipynb\" target=\"_parent\"><img src=\"https://colab.research.google.com/assets/colab-badge.svg\" alt=\"Open In Colab\"/></a>"
      ]
    },
    {
      "cell_type": "code",
      "metadata": {
        "colab_type": "code",
        "id": "4zsg-Ao8iW1q",
        "colab": {}
      },
      "source": [
        "import math\n",
        "import numpy as np\n",
        "from matplotlib import pyplot as plt"
      ],
      "execution_count": 0,
      "outputs": []
    },
    {
      "cell_type": "markdown",
      "metadata": {
        "colab_type": "text",
        "id": "r2SdbJ1wiW2I"
      },
      "source": [
        "# Linear Regression\n",
        "\n",
        "Linear regression is a classic method of fitting a line to a set of data. It can be extended to fitting any curve with linear coefficients."
      ]
    },
    {
      "cell_type": "markdown",
      "metadata": {
        "colab_type": "text",
        "id": "0Ggifyj2iW2M"
      },
      "source": [
        "## Basic Algebra\n",
        "\n",
        "A line can be defined using this standard equation:\n",
        "\n",
        "$$y = a x + b$$\n",
        "\n",
        "Where $a$ is the slope and $b$ is the y-intercept. Given two sets of points $x_1, y_1$ and $x_2, y_2$, we have two equations with two unknowns. It is then possible to solve for $a$ and $b$ explicitly.\n",
        "\n",
        "For example, given the points 2, 1 and 3, 3, we can visualize these points:"
      ]
    },
    {
      "cell_type": "code",
      "metadata": {
        "colab_type": "code",
        "id": "5j1GUAsDiW2N",
        "outputId": "b4254a2b-5bdf-49a8-ef31-a9f06d18c366",
        "colab": {
          "base_uri": "https://localhost:8080/",
          "height": 265
        }
      },
      "source": [
        "(x1, y1) = (2, 1)\n",
        "(x2, y2) = (3, 3)\n",
        "\n",
        "plt.plot(x1, y1, 'ro')\n",
        "plt.plot(x2, y2, 'ro')\n",
        "plt.plot([x1, x2], [y1, y2])\n",
        "plt.show()"
      ],
      "execution_count": 0,
      "outputs": [
        {
          "output_type": "display_data",
          "data": {
            "image/png": "[encoded data removed]",
            "text/plain": [
              "<Figure size 432x288 with 1 Axes>"
            ]
          },
          "metadata": {
            "tags": [],
            "needs_background": "light"
          }
        }
      ]
    },
    {
      "cell_type": "markdown",
      "metadata": {
        "colab_type": "text",
        "id": "H-iswf-liW2W"
      },
      "source": [
        "To solve for constants $a$ and $b$, we can write these two equations:\n",
        "\n",
        "$$1 = 2 a + b$$\n",
        "\n",
        "$$3 = 3 a + b$$\n",
        "\n",
        "Using basic algebra, we find the values for $a$ and $b$ are:\n",
        "\n",
        "$$a = 2$$\n",
        "\n",
        "$$b = -3$$\n",
        "\n",
        "Redrawing the graph with the y-intercept:"
      ]
    },
    {
      "cell_type": "code",
      "metadata": {
        "colab_type": "code",
        "id": "xEFZlrXHiW2c",
        "outputId": "926baa80-9378-4e1c-b548-0f3418e6a1e0",
        "colab": {
          "base_uri": "https://localhost:8080/",
          "height": 265
        }
      },
      "source": [
        "a = 2\n",
        "b = -3\n",
        "\n",
        "plt.plot(x1, y1, 'ro')\n",
        "plt.plot(x2, y2, 'ro')\n",
        "plt.plot([0, x2], [b, y2])\n",
        "plt.show()"
      ],
      "execution_count": 0,
      "outputs": [
        {
          "output_type": "display_data",
          "data": {
            "image/png": "[encoded data removed]",
            "text/plain": [
              "<Figure size 432x288 with 1 Axes>"
            ]
          },
          "metadata": {
            "tags": [],
            "needs_background": "light"
          }
        }
      ]
    },
    {
      "cell_type": "markdown",
      "metadata": {
        "colab_type": "text",
        "id": "XvrhjikLiW2r"
      },
      "source": [
        "## Linear Algebra\n",
        "\n",
        "The problem above can be abstracted using [linear algebra](https://en.wikipedia.org/wiki/Linear_algebra). The system of equations above can be rewritten in matrix form:\n",
        "\n",
        "$$1 = 2 a + b$$\n",
        "\n",
        "$$3 = 3 a + b$$\n",
        "\n",
        "$$ \\begin{bmatrix}\n",
        "1 \\\\\n",
        "3\n",
        "\\end{bmatrix} = \\begin{bmatrix}\n",
        "2 & 1 \\\\\n",
        "3 & 1 \\\\\n",
        "\\end{bmatrix} \\begin{bmatrix}\n",
        "a \\\\\n",
        "b\n",
        "\\end{bmatrix}$$\n",
        "\n",
        "This can be written more generally as matrix equation\n",
        "\n",
        "$$y = A v$$\n",
        "\n",
        "Where $y$ and $v$ are vectors and $A$ is a matrix:\n",
        "\n",
        "$$y = \\begin{bmatrix}\n",
        "1 \\\\\n",
        "3\n",
        "\\end{bmatrix}$$\n",
        "\n",
        "$$v = \\begin{bmatrix}\n",
        "a \\\\\n",
        "b\n",
        "\\end{bmatrix}$$\n",
        "\n",
        "$$A = \\begin{bmatrix}\n",
        "2 & 1 \\\\\n",
        "3 & 1 \\\\\n",
        "\\end{bmatrix}$$"
      ]
    },
    {
      "cell_type": "markdown",
      "metadata": {
        "colab_type": "text",
        "id": "3k2UfDn6mZCh"
      },
      "source": [
        "To solve for $a$ and $b$, which is equivalent to solving for the vector $v$, consider how we would solve a simple equation such as\n",
        "\n",
        "$$1 = 2 x$$\n",
        "\n",
        "We could multiply both sides of the equation by the inverse of $2$, which is $2^{-1}$\n",
        "\n",
        "$$2^{-1} \\times 1 = 2^{-1} \\times 2 x$$\n",
        "\n",
        "$2 \\times 2^{-1}$ is just $1$, so\n",
        "\n",
        "$$x = \\frac{1}{2}$$"
      ]
    },
    {
      "cell_type": "markdown",
      "metadata": {
        "colab_type": "text",
        "id": "bnvw8jdNmJ_n"
      },
      "source": [
        "By analogy, multiplying the matrix equation above by the inverse of $A$ or $A^{-1}$ on both sides would look like this\n",
        "\n",
        "$$y = A v$$\n",
        "\n",
        "$$A^{-1} y = A^{-1} A v$$\n",
        "\n",
        "The quantity $A^{-1} A$ becomes the [identity matrix](https://en.wikipedia.org/wiki/Identity_matrix), so the vector $v$ would then be\n",
        "\n",
        "$$v = A^{-1} y$$\n",
        "\n",
        "NumPy contains methods to compute the inverse of a matrix."
      ]
    },
    {
      "cell_type": "code",
      "metadata": {
        "colab_type": "code",
        "id": "g6tT2CyyiW2u",
        "outputId": "7bf2138c-8741-4d6e-c8bf-7e64128f3aac",
        "colab": {
          "base_uri": "https://localhost:8080/",
          "height": 51
        }
      },
      "source": [
        "# Create a 2x2 matrix\n",
        "\n",
        "A = np.array([[x1, 1], [x2, 1]])\n",
        "A"
      ],
      "execution_count": 0,
      "outputs": [
        {
          "output_type": "execute_result",
          "data": {
            "text/plain": [
              "array([[2, 1],\n",
              "       [3, 1]])"
            ]
          },
          "metadata": {
            "tags": []
          },
          "execution_count": 4
        }
      ]
    },
    {
      "cell_type": "code",
      "metadata": {
        "colab_type": "code",
        "id": "J4sIyI2riW3H",
        "outputId": "3f4f0d3c-954f-43bb-9cb1-fd11917da61f",
        "colab": {
          "base_uri": "https://localhost:8080/",
          "height": 51
        }
      },
      "source": [
        "# Compute the inverse of A\n",
        "\n",
        "Ainv = np.linalg.inv(A)\n",
        "Ainv"
      ],
      "execution_count": 0,
      "outputs": [
        {
          "output_type": "execute_result",
          "data": {
            "text/plain": [
              "array([[-1.,  1.],\n",
              "       [ 3., -2.]])"
            ]
          },
          "metadata": {
            "tags": []
          },
          "execution_count": 5
        }
      ]
    },
    {
      "cell_type": "code",
      "metadata": {
        "colab_type": "code",
        "id": "b9UDU_zejBKk",
        "outputId": "9bfe01c2-5a22-40b7-edc2-e63efb45611a",
        "colab": {
          "base_uri": "https://localhost:8080/",
          "height": 51
        }
      },
      "source": [
        "# Multiply the inverse of A with A to confirm it produces the identity matrix\n",
        "\n",
        "Ainv.dot(A)"
      ],
      "execution_count": 0,
      "outputs": [
        {
          "output_type": "execute_result",
          "data": {
            "text/plain": [
              "array([[1.00000000e+00, 1.11022302e-16],\n",
              "       [0.00000000e+00, 1.00000000e+00]])"
            ]
          },
          "metadata": {
            "tags": []
          },
          "execution_count": 6
        }
      ]
    },
    {
      "cell_type": "markdown",
      "metadata": {
        "colab_type": "text",
        "id": "oyg51fSKkiUO"
      },
      "source": [
        "This is the value of the identity matrix with a very small round-off error:\n",
        "\n",
        "$$A^{-1} A = I = \\begin{bmatrix}\n",
        "1 & 0 \\\\\n",
        "0 & 1 \\\\\n",
        "\\end{bmatrix}$$\n",
        "\n",
        "Multiplying the vector $v$ with $A^{-1}$ on the left yields the vector $y$:"
      ]
    },
    {
      "cell_type": "code",
      "metadata": {
        "colab_type": "code",
        "id": "hDVQWHp0iW3P",
        "outputId": "281c79f4-f0e0-408d-ba37-54fd8b8895ad",
        "colab": {
          "base_uri": "https://localhost:8080/",
          "height": 34
        }
      },
      "source": [
        "y = np.array([1, 3])\n",
        "v = Ainv.dot(y)\n",
        "v"
      ],
      "execution_count": 0,
      "outputs": [
        {
          "output_type": "execute_result",
          "data": {
            "text/plain": [
              "array([ 2., -3.])"
            ]
          },
          "metadata": {
            "tags": []
          },
          "execution_count": 7
        }
      ]
    },
    {
      "cell_type": "markdown",
      "metadata": {
        "colab_type": "text",
        "id": "DMNWvWYdiW3U"
      },
      "source": [
        "Which is the same result as before with basic algebra."
      ]
    },
    {
      "cell_type": "markdown",
      "metadata": {
        "colab_type": "text",
        "id": "5o93nuDjiW3a"
      },
      "source": [
        "## More Data\n",
        "\n",
        "Consider the case when more than two data points are available."
      ]
    },
    {
      "cell_type": "markdown",
      "metadata": {
        "colab_type": "text",
        "id": "CDHHRbFGiW3f"
      },
      "source": [
        "Given a set of samples, $x_1, x_2, ... x_n$ and $y_1, y_2, ... y_n$, a simple linear model can be written as:\n",
        "\n",
        "$$ y_i = a x_i + b$$"
      ]
    },
    {
      "cell_type": "markdown",
      "metadata": {
        "colab_type": "text",
        "id": "Ypf2XyvPiW3i"
      },
      "source": [
        "This can be rewritten in matrix form:\n",
        "\n",
        "$$ \\begin{bmatrix}\n",
        "y_1 \\\\\n",
        "y_2 \\\\\n",
        "... \\\\\n",
        "y_n\n",
        "\\end{bmatrix} = \\begin{bmatrix}\n",
        "x_1 & 1 \\\\\n",
        "x_2 & 1 \\\\\n",
        "... \\\\\n",
        "x_n & 1\n",
        "\\end{bmatrix} \\begin{bmatrix}\n",
        "a \\\\\n",
        "b\n",
        "\\end{bmatrix}$$"
      ]
    },
    {
      "cell_type": "markdown",
      "metadata": {
        "colab_type": "text",
        "id": "iWX1OhUbiW3l"
      },
      "source": [
        "Introduce variables for simplification:\n",
        "\n",
        "$$ y = \\begin{bmatrix}\n",
        "y_1 \\\\\n",
        "y_2 \\\\\n",
        "... \\\\\n",
        "y_n\n",
        "\\end{bmatrix}$$\n",
        "\n",
        "$$ A = \\begin{bmatrix}\n",
        "x_1 & 1 \\\\\n",
        "x_2 & 1 \\\\\n",
        "... \\\\\n",
        "x_n & 1\n",
        "\\end{bmatrix}$$\n",
        "\n",
        "$$ v = \\begin{bmatrix}\n",
        "a \\\\\n",
        "b\n",
        "\\end{bmatrix}$$"
      ]
    },
    {
      "cell_type": "markdown",
      "metadata": {
        "colab_type": "text",
        "id": "Odwv3wOKiW3r"
      },
      "source": [
        "Substitute variables above to produce a simplifed form:\n",
        "\n",
        "$$ y = A v$$"
      ]
    },
    {
      "cell_type": "markdown",
      "metadata": {
        "colab_type": "text",
        "id": "_I9luAYriW34"
      },
      "source": [
        "If $A$ is a square matrix, i.e. $n = 2$, $a$ and $b$ can be determined exactly:\n",
        "\n",
        "$$ \\begin{bmatrix}\n",
        "a \\\\\n",
        "b\n",
        "\\end{bmatrix} = v = A^{-1} y$$"
      ]
    },
    {
      "cell_type": "markdown",
      "metadata": {
        "colab_type": "text",
        "id": "e5chc6WPiW38"
      },
      "source": [
        "In the case where $n > 2$, $A$ is not square and cannot be inverted. One solution is to compute a pseudo-inverse by multiplying $A$ by it's transpose $A^T$, which will yield a square matrix on the right hand side:\n",
        "\n",
        "$$ A^T y = A^T A v$$"
      ]
    },
    {
      "cell_type": "markdown",
      "metadata": {
        "colab_type": "text",
        "id": "2cn4xcP_iW3-"
      },
      "source": [
        "The matrix $A^T A$ on the right can be eliminated by multiplying by it's inverse $(A^T A)^{-1}$:\n",
        "\n",
        "$$ (A^T A)^{-1} A^T y = (A^T A)^{-1} (A^T A) v$$"
      ]
    },
    {
      "cell_type": "markdown",
      "metadata": {
        "colab_type": "text",
        "id": "k66t8jmziW4B"
      },
      "source": [
        "Simplifying yields the result for $a$ and $b$:\n",
        "\n",
        "$$ v = \\begin{bmatrix}\n",
        "a \\\\\n",
        "b\n",
        "\\end{bmatrix} = (A^T A)^{-1} A^T y$$"
      ]
    },
    {
      "cell_type": "markdown",
      "metadata": {
        "id": "UHln-0s0HAFT",
        "colab_type": "text"
      },
      "source": [
        "## Numerical Example\n",
        "\n",
        "The following is an example with real values."
      ]
    },
    {
      "cell_type": "code",
      "metadata": {
        "id": "XRwoGMmWHAFT",
        "colab_type": "code",
        "outputId": "59950d56-2b8f-4aa7-cabf-f9f2c96baf56",
        "colab": {
          "base_uri": "https://localhost:8080/",
          "height": 265
        }
      },
      "source": [
        "x = np.array([-0.40033681,  1.12710083,  1.51535892,  3.13012734,  3.07744676,\n",
        "        4.25275393,  6.535855  ,  4.23343874,  8.048823  ,  7.38773014,\n",
        "        9.91933651, 12.69142755, 11.61959316, 12.20667906, 13.98048109,\n",
        "       16.07602619, 16.31351797, 17.31102756, 17.74511659, 17.66863483])\n",
        "\n",
        "y = np.array([ 0.7261771 ,  2.86206199, -0.2489528 ,  0.63325248,  4.49244568,\n",
        "        5.30531409, 13.6101148 ,  8.48395548, 10.42996366, 14.74172737,\n",
        "       15.88897483, 23.76571743, 23.61602269, 20.17880228, 25.85779471,\n",
        "       30.11114371, 26.88735809, 28.57977723, 30.99383456, 33.03676545])\n",
        "\n",
        "plt.scatter(x, y, color='red')\n",
        "plt.show()"
      ],
      "execution_count": 0,
      "outputs": [
        {
          "output_type": "display_data",
          "data": {
            "image/png": "[encoded data removed]",
            "text/plain": [
              "<Figure size 432x288 with 1 Axes>"
            ]
          },
          "metadata": {
            "tags": [],
            "needs_background": "light"
          }
        }
      ]
    },
    {
      "cell_type": "markdown",
      "metadata": {
        "id": "xo6-lnGJHAFb",
        "colab_type": "text"
      },
      "source": [
        "Prepare matrix A of the form\n",
        "\n",
        "$$A = \\begin{bmatrix}\n",
        "x_1 & 1 \\\\\n",
        "x_2 & 1 \\\\\n",
        "... \\\\\n",
        "x_n & 1\n",
        "\\end{bmatrix}$$"
      ]
    },
    {
      "cell_type": "code",
      "metadata": {
        "id": "LpgrWEISHAFb",
        "colab_type": "code",
        "outputId": "fb27e9f1-0517-4795-da93-6a7ae9e6c5b4",
        "colab": {
          "base_uri": "https://localhost:8080/",
          "height": 357
        }
      },
      "source": [
        "x_matrix = x.reshape((-1, 1))\n",
        "ones = np.ones((len(x), 1))\n",
        "A = np.append(x_matrix, ones, axis=1)\n",
        "A"
      ],
      "execution_count": 0,
      "outputs": [
        {
          "output_type": "execute_result",
          "data": {
            "text/plain": [
              "array([[-0.40033681,  1.        ],\n",
              "       [ 1.12710083,  1.        ],\n",
              "       [ 1.51535892,  1.        ],\n",
              "       [ 3.13012734,  1.        ],\n",
              "       [ 3.07744676,  1.        ],\n",
              "       [ 4.25275393,  1.        ],\n",
              "       [ 6.535855  ,  1.        ],\n",
              "       [ 4.23343874,  1.        ],\n",
              "       [ 8.048823  ,  1.        ],\n",
              "       [ 7.38773014,  1.        ],\n",
              "       [ 9.91933651,  1.        ],\n",
              "       [12.69142755,  1.        ],\n",
              "       [11.61959316,  1.        ],\n",
              "       [12.20667906,  1.        ],\n",
              "       [13.98048109,  1.        ],\n",
              "       [16.07602619,  1.        ],\n",
              "       [16.31351797,  1.        ],\n",
              "       [17.31102756,  1.        ],\n",
              "       [17.74511659,  1.        ],\n",
              "       [17.66863483,  1.        ]])"
            ]
          },
          "metadata": {
            "tags": []
          },
          "execution_count": 12
        }
      ]
    },
    {
      "cell_type": "markdown",
      "metadata": {
        "id": "mZoT0PDbHAFe",
        "colab_type": "text"
      },
      "source": [
        "Compute the pseudo-inverse\n",
        "\n",
        "$$(A^T A)^{-1} A^T$$"
      ]
    },
    {
      "cell_type": "code",
      "metadata": {
        "id": "6ai9GEAGHAFf",
        "colab_type": "code",
        "outputId": "70262fae-d4bf-41e0-eeed-0b00e1d68754",
        "colab": {}
      },
      "source": [
        "At = A.T\n",
        "pseudo_inv = np.linalg.inv(At.dot(A)).dot(At)\n",
        "pseudo_inv"
      ],
      "execution_count": 0,
      "outputs": [
        {
          "output_type": "execute_result",
          "data": {
            "text/plain": [
              "array([[-0.01354453, -0.01139449, -0.01084797, -0.008575  , -0.00864916,\n",
              "        -0.00699478, -0.00378106, -0.00702197, -0.00165139, -0.00258195,\n",
              "         0.00098157,  0.0048836 ,  0.00337487,  0.00420126,  0.00669809,\n",
              "         0.0096478 ,  0.0099821 ,  0.01138621,  0.01199723,  0.01188958],\n",
              "       [ 0.17490775,  0.15508006,  0.15004008,  0.12907875,  0.1297626 ,\n",
              "         0.11450593,  0.08486897,  0.11475666,  0.06522911,  0.07381077,\n",
              "         0.04094796,  0.00496341,  0.01887691,  0.01125594, -0.0117698 ,\n",
              "        -0.0389721 , -0.04205498, -0.05500366, -0.06063858, -0.05964577]])"
            ]
          },
          "metadata": {
            "tags": []
          },
          "execution_count": 10
        }
      ]
    },
    {
      "cell_type": "markdown",
      "metadata": {
        "id": "_1pQfJBLHAFh",
        "colab_type": "text"
      },
      "source": [
        "Compute $a$ and $b$ by multiplying the pseudo-inverse times $y$\n",
        "\n",
        "$$\\begin{bmatrix}\n",
        "a \\\\\n",
        "b\n",
        "\\end{bmatrix} = (A^T A)^{-1} A^T y$$"
      ]
    },
    {
      "cell_type": "code",
      "metadata": {
        "id": "ZzWyHcqPHAFi",
        "colab_type": "code",
        "outputId": "52c83c5a-2143-4e52-d621-f88ec27f255e",
        "colab": {}
      },
      "source": [
        "(a, b) = pseudo_inv.dot(y)\n",
        "\n",
        "x_points = [0, 20]\n",
        "y_points = [a*x + b for x in x_points]\n",
        "plt.scatter(x, y, color='red')\n",
        "plt.plot(x_points, y_points)\n",
        "plt.show()"
      ],
      "execution_count": 0,
      "outputs": [
        {
          "output_type": "display_data",
          "data": {
            "image/png": "[encoded data removed]",
            "text/plain": [
              "<Figure size 432x288 with 1 Axes>"
            ]
          },
          "metadata": {
            "tags": [],
            "needs_background": "light"
          }
        }
      ]
    },
    {
      "cell_type": "markdown",
      "metadata": {
        "colab_type": "text",
        "id": "mBwXIYeFiW4D"
      },
      "source": [
        "## Model Accuracy\n",
        "\n",
        "The accuracy of the model above can be measured by computing the mean squared error between predicted and training values:\n",
        "\n",
        "$$ \\epsilon = \\frac{1}{m} \\sum_{i=1}^{m} (a x_i + b - y_i)^2 $$\n",
        "\n",
        "The prediction error can be computed in the same way, but using the test samples instead of the training samples.\n",
        "\n",
        "Test error can be different and training error, for example:\n",
        "\n",
        "- If training error is high, this is a case of __high bias__. This generally means the model is not powerful enough to fit the training data.\n",
        "- If the training error is low, but the test error is high, this is a case of __high variance__. This usually often means the model is overfitting and does not generalize well with data it has not seen."
      ]
    },
    {
      "cell_type": "code",
      "metadata": {
        "id": "lgk7Znc1HAFm",
        "colab_type": "code",
        "outputId": "d96436ef-05a1-408f-8b4f-3376712e74e2",
        "colab": {}
      },
      "source": [
        "epsilon = ((a*x + b - y)**2).mean()\n",
        "math.sqrt(epsilon)"
      ],
      "execution_count": 0,
      "outputs": [
        {
          "output_type": "execute_result",
          "data": {
            "text/plain": [
              "2.1254120025204726"
            ]
          },
          "metadata": {
            "tags": []
          },
          "execution_count": 12
        }
      ]
    },
    {
      "cell_type": "markdown",
      "metadata": {
        "colab_type": "text",
        "id": "W0Uep79MiW4G"
      },
      "source": [
        "## Extending the Model\n",
        "\n",
        "In the case where a straight line will not accurately fit the available data, a more complex model can be used. For example, a quadratic model might be more suitable:\n",
        "\n",
        "$$ y_i = a {x_i}^2 + b x_i + c \\tag{10}$$"
      ]
    },
    {
      "cell_type": "markdown",
      "metadata": {
        "colab_type": "text",
        "id": "n46ouDjdiW4J"
      },
      "source": [
        "In matrix form:\n",
        "\n",
        "$$ \\begin{bmatrix}\n",
        "y_1 \\\\\n",
        "y_2 \\\\\n",
        "... \\\\\n",
        "y_n\n",
        "\\end{bmatrix} = \\begin{bmatrix}\n",
        "{x_1}^2 & x_1 & 1 \\\\\n",
        "{x_2}^2 & x_2 & 1 \\\\\n",
        "... \\\\\n",
        "{x_n}^2 & x_n & 1\n",
        "\\end{bmatrix} \\begin{bmatrix}\n",
        "a \\\\\n",
        "b \\\\\n",
        "c\n",
        "\\end{bmatrix} \\tag{11}$$"
      ]
    },
    {
      "cell_type": "markdown",
      "metadata": {
        "colab_type": "text",
        "id": "CNpclVMYiW4M"
      },
      "source": [
        "In this case the matrix $A$ is:\n",
        "\n",
        "$$ A = \\begin{bmatrix}\n",
        "{x_1}^2 & x_1 & 1 \\\\\n",
        "{x_2}^2 & x_2 & 1 \\\\\n",
        "... \\\\\n",
        "{x_n}^2 & x_n & 1\n",
        "\\end{bmatrix}\\tag{12}$$"
      ]
    },
    {
      "cell_type": "markdown",
      "metadata": {
        "colab_type": "text",
        "id": "ZROSo4zmiW4O"
      },
      "source": [
        "The same procedure can be used to find $a$, $b$, and $c$:\n",
        "\n",
        "$$ \\begin{bmatrix}\n",
        "a \\\\\n",
        "b \\\\\n",
        "c\n",
        "\\end{bmatrix} = (A^T A)^{-1} A^T y \\tag{13}$$"
      ]
    },
    {
      "cell_type": "code",
      "metadata": {
        "id": "n_XkirmpHAFq",
        "colab_type": "code",
        "outputId": "f36f9eeb-2d69-4fa6-d592-6207cb1c0f7c",
        "colab": {
          "base_uri": "https://localhost:8080/",
          "height": 265
        }
      },
      "source": [
        "#data for fuel consumption in function of (weight * horsepower)\n",
        "x = np.array([4.5552,6.09345,5.154,5.1495,4.8286,8.59518,9.5788,9.2708,9.95625,7.315,6.0571,5.7744,5.6415,6.9435,2.2534,2.69135,\n",
        "              2.69078,2.19895,1.8744,0.8441,2.32464,2.187,2.25625,2.52442,2.3832,9.92225,8.752,9.2022,9.13276])\n",
        "#data for fuel consumption in function of (horsepower)\n",
        "#x = np.array([1.3,1.65,1.5,1.5,1.4,1.98,2.2,2.15,2.25,1.9,1.7,1.6,1.5,2.25,0.95,0.95,0.97,0.85,0.88,0.46,0.87,0.9,0.95,1.13,0.9,2.15,2,2.1,1.93])\n",
        "y = np.array([ 5.6,6.7,5.6,6.3,5.9,6.7,7.1,7.1,7.1,6.7,6.7,7.1,6.7,7.1,4.2,4.5,5.6,4.8,3.7,3.8,4.0,4.2,4.0,3.8,4.8,10.0,10.0,9.11,1.1])\n",
        "\n",
        "plt.scatter(x, y, color='red')\n",
        "plt.show()"
      ],
      "execution_count": 0,
      "outputs": [
        {
          "output_type": "display_data",
          "data": {
            "image/png": "[encoded data removed]",
            "text/plain": [
              "<Figure size 432x288 with 1 Axes>"
            ]
          },
          "metadata": {
            "tags": [],
            "needs_background": "light"
          }
        }
      ]
    },
    {
      "cell_type": "code",
      "metadata": {
        "id": "-GXFojBeTnyW",
        "colab_type": "code",
        "outputId": "d047d0e2-827d-4252-8987-521eb354d785",
        "colab": {
          "base_uri": "https://localhost:8080/",
          "height": 510
        }
      },
      "source": [
        "x_matrix = x.reshape((-1, 1))\n",
        "ones = np.ones((len(x), 1))\n",
        "A = np.append(x_matrix, ones, axis=1)\n",
        "A"
      ],
      "execution_count": 0,
      "outputs": [
        {
          "output_type": "execute_result",
          "data": {
            "text/plain": [
              "array([[4.5552 , 1.     ],\n",
              "       [6.09345, 1.     ],\n",
              "       [5.154  , 1.     ],\n",
              "       [5.1495 , 1.     ],\n",
              "       [4.8286 , 1.     ],\n",
              "       [8.59518, 1.     ],\n",
              "       [9.5788 , 1.     ],\n",
              "       [9.2708 , 1.     ],\n",
              "       [9.95625, 1.     ],\n",
              "       [7.315  , 1.     ],\n",
              "       [6.0571 , 1.     ],\n",
              "       [5.7744 , 1.     ],\n",
              "       [5.6415 , 1.     ],\n",
              "       [6.9435 , 1.     ],\n",
              "       [2.2534 , 1.     ],\n",
              "       [2.69135, 1.     ],\n",
              "       [2.69078, 1.     ],\n",
              "       [2.19895, 1.     ],\n",
              "       [1.8744 , 1.     ],\n",
              "       [0.8441 , 1.     ],\n",
              "       [2.32464, 1.     ],\n",
              "       [2.187  , 1.     ],\n",
              "       [2.25625, 1.     ],\n",
              "       [2.52442, 1.     ],\n",
              "       [2.3832 , 1.     ],\n",
              "       [9.92225, 1.     ],\n",
              "       [8.752  , 1.     ],\n",
              "       [9.2022 , 1.     ],\n",
              "       [9.13276, 1.     ]])"
            ]
          },
          "metadata": {
            "tags": []
          },
          "execution_count": 23
        }
      ]
    },
    {
      "cell_type": "code",
      "metadata": {
        "id": "AU_dAGB1ToSm",
        "colab_type": "code",
        "outputId": "98cad319-a835-432e-e6f3-b577bee581c0",
        "colab": {
          "base_uri": "https://localhost:8080/",
          "height": 221
        }
      },
      "source": [
        "At = A.T\n",
        "pseudo_inv = np.linalg.inv(At.dot(A)).dot(At)\n",
        "pseudo_inv"
      ],
      "execution_count": 0,
      "outputs": [
        {
          "output_type": "execute_result",
          "data": {
            "text/plain": [
              "array([[-0.00335955,  0.00287188, -0.00093382, -0.00095205, -0.00225201,\n",
              "         0.01300637,  0.01699101,  0.0157433 ,  0.01852005,  0.00782037,\n",
              "         0.00272463,  0.00157941,  0.00104104,  0.00631543, -0.01268413,\n",
              "        -0.01090999, -0.0109123 , -0.0129047 , -0.01421945, -0.01839319,\n",
              "        -0.01239553, -0.01295311, -0.01267258, -0.01158623, -0.01215831,\n",
              "         0.01838232,  0.01364165,  0.0154654 ,  0.0151841 ],\n",
              "       [ 0.05257233,  0.01901906,  0.03951093,  0.03960909,  0.04660876,\n",
              "        -0.03555026, -0.05700559, -0.0502873 , -0.06523877, -0.00762616,\n",
              "         0.01981194,  0.02597838,  0.02887727,  0.00047723,  0.10278065,\n",
              "         0.0932278 ,  0.09324024,  0.10396834,  0.11104763,  0.13352119,\n",
              "         0.10122671,  0.104229  ,  0.10271848,  0.09686899,  0.09994937,\n",
              "        -0.06449714, -0.03897091, -0.04879096, -0.04727629]])"
            ]
          },
          "metadata": {
            "tags": []
          },
          "execution_count": 24
        }
      ]
    },
    {
      "cell_type": "code",
      "metadata": {
        "id": "A7aSRwTNTvnQ",
        "colab_type": "code",
        "outputId": "8ebe4560-2d6b-424e-fc0a-7a00075b0628",
        "colab": {
          "base_uri": "https://localhost:8080/",
          "height": 265
        }
      },
      "source": [
        "(a, b) = pseudo_inv.dot(y)\n",
        "\n",
        "x_points = [0, 10]\n",
        "y_points = [a*x + b for x in x_points]\n",
        "plt.scatter(x, y, color='red')\n",
        "plt.plot(x_points, y_points)\n",
        "plt.show()"
      ],
      "execution_count": 0,
      "outputs": [
        {
          "output_type": "display_data",
          "data": {
            "image/png": "[encoded data removed]",
            "text/plain": [
              "<Figure size 432x288 with 1 Axes>"
            ]
          },
          "metadata": {
            "tags": [],
            "needs_background": "light"
          }
        }
      ]
    }
  ]
}